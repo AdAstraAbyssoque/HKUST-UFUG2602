{
 "cells": [
  {
   "cell_type": "markdown",
   "metadata": {},
   "source": [
    "# Sorting\n",
    "\n",
    "Input: sequence of numbers\n",
    "\n",
    "Output: permutation of sorted numbers\n"
   ]
  },
  {
   "cell_type": "markdown",
   "metadata": {},
   "source": [
    "\n",
    "> 小知识：\n",
    "\n",
    ">在数学中，\"total order\"（也被称为 \"linear order\" 或 \"simple order\"）是一种二元关系，它是反身性，反对称性，和传递性的，并且任何两个不同的元素都是可比较的。这意味着对于任何两个元素 $a$ 和 $b$，$a$ 和 $b$ 是可以比较的，即 $a < b$，$a = b$，或者 $a > b$。\n",
    "\n",
    ">更具体地说，设 $X$ 是一个集合，$\\leq$ 是 $X$ 上的一个二元关系，如果它满足以下性质，那么我们就称 $(X, \\leq)$ 是一个全序集：\n",
    "\n",
    ">1. 反身性：对于所有的 $x \\in X$，我们有 $x \\leq x$。\n",
    ">2. 反对称性：对于所有的 $x, y \\in X$，如果 $x \\leq y$ 并且 $y \\leq x$，那么 $x = y$。\n",
    ">3. 可传递性：对于所有的 $x, y, z \\in X$，如果 $x \\leq y$ 并且 $y \\leq z$，那么 $x \\leq z$。\n",
    ">4. 连通性：对于所有的 $x, y \\in X$，如果 $x \\neq y$，那么 $x \\leq y$ 或者 $y \\leq x$。\n",
    "\n",
    ">一个常见的全序集的例子就是实数集 $\\mathbb{R}$，其中的全序关系就是常见的小于等于关系 \"$\\leq$\"."
   ]
  },
  {
   "cell_type": "markdown",
   "metadata": {},
   "source": [
    "## Bubble Sort\n",
    "Find the largest element when we move up.\n"
   ]
  },
  {
   "cell_type": "code",
   "execution_count": 36,
   "metadata": {},
   "outputs": [
    {
     "name": "stdout",
     "output_type": "stream",
     "text": [
      "[17, 20, 26, 31, 44, 54, 55, 77, 93]\n"
     ]
    }
   ],
   "source": [
    "#Bubble Sort\n",
    "def bubbleSort(list):\n",
    "    for i in range(len(list)-1,0,-1):\n",
    "        for j in range(i):\n",
    "            if list[j] > list[j+1]:\n",
    "                list[j], list[j+1] = list[j+1], list[j]\n",
    "    return list\n",
    "\n",
    "list = [54,26,93,17,77,31,44,55,20]\n",
    "print(bubbleSort(list))"
   ]
  },
  {
   "cell_type": "markdown",
   "metadata": {},
   "source": [
    "效率优化（加入flag来截断已经完美的数据）："
   ]
  },
  {
   "cell_type": "code",
   "execution_count": 35,
   "metadata": {},
   "outputs": [],
   "source": [
    "def bubbleSort2(list):\n",
    "    for i in range(len(list)-1,0,-1):\n",
    "        flag = False\n",
    "        for j in range(i):\n",
    "            if list[j] > list[j+1]:\n",
    "                list[j], list[j+1] = list[j+1], list[j]\n",
    "                flag = True\n",
    "        if not flag:\n",
    "            break\n",
    "    return list"
   ]
  },
  {
   "cell_type": "markdown",
   "metadata": {},
   "source": [
    "## Merge Sort"
   ]
  },
  {
   "cell_type": "code",
   "execution_count": 2,
   "metadata": {},
   "outputs": [
    {
     "name": "stdout",
     "output_type": "stream",
     "text": [
      "[17, 20, 26, 31, 44, 54, 55, 77, 93]\n"
     ]
    }
   ],
   "source": [
    "# Merge Sort\n",
    "def mergeSort(list):\n",
    "    if len(list) > 1:\n",
    "        mid = len(list) // 2\n",
    "        left = list[:mid]\n",
    "        right = list[mid:]\n",
    "\n",
    "        mergeSort(left)\n",
    "        mergeSort(right)\n",
    "\n",
    "        i = j = k = 0\n",
    "        while i < len(left) and j < len(right):\n",
    "            if left[i] < right[j]:\n",
    "                list[k] = left[i]\n",
    "                i += 1\n",
    "            else:\n",
    "                list[k] = right[j]\n",
    "                j += 1\n",
    "            k += 1\n",
    "\n",
    "        while i < len(left):\n",
    "            list[k] = left[i]\n",
    "            i += 1\n",
    "            k += 1\n",
    "\n",
    "        while j < len(right):\n",
    "            list[k] = right[j]\n",
    "            j += 1\n",
    "            k += 1\n",
    "    return list\n",
    "\n",
    "list = [54,26,93,17,77,31,44,55,20]\n",
    "print(mergeSort(list))\n"
   ]
  },
  {
   "cell_type": "code",
   "execution_count": 3,
   "metadata": {},
   "outputs": [
    {
     "data": {
      "text/html": [
       "<style>\n",
       "    body {\n",
       "        --vscode-font-family: \"等线\"\n",
       "    }\n",
       "</style>\n"
      ],
      "text/plain": [
       "<IPython.core.display.HTML object>"
      ]
     },
     "metadata": {},
     "output_type": "display_data"
    }
   ],
   "source": [
    "%%HTML\n",
    "<style>\n",
    "    body {\n",
    "        --vscode-font-family: \"等线\"\n",
    "    }\n",
    "</style>"
   ]
  }
 ],
 "metadata": {
  "kernelspec": {
   "display_name": "DSDA",
   "language": "python",
   "name": "python3"
  },
  "language_info": {
   "codemirror_mode": {
    "name": "ipython",
    "version": 3
   },
   "file_extension": ".py",
   "mimetype": "text/x-python",
   "name": "python",
   "nbconvert_exporter": "python",
   "pygments_lexer": "ipython3",
   "version": "3.12.1"
  }
 },
 "nbformat": 4,
 "nbformat_minor": 2
}
