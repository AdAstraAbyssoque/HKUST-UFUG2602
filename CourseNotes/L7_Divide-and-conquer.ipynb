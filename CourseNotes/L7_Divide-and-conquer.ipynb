{
 "cells": [
  {
   "cell_type": "markdown",
   "metadata": {},
   "source": [
    "# 主定理（Master Theorem）详解\n",
    "\n",
    "主定理（Master Theorem）是一种用于解决递归关系式的方法，特别适用于许多分治算法的时间复杂度分析。\n",
    "\n",
    "## 主定理的一般形式\n",
    "\n",
    "主定理的一般形式如下：\n",
    "\n",
    "$$T(n) = aT(n/b) + f(n)$$\n",
    "\n",
    "在这个递归关系式中：\n",
    "\n",
    "- $T(n)$ 表示问题大小为 $n$ 时的运行时间。\n",
    "- $a$ 表示每次递归调用的次数。这通常对应于算法将问题划分为多少个子问题。\n",
    "- $n/b$ 表示每次递归调用的问题规模。这通常对应于每个子问题的大小。\n",
    "- $f(n)$ 表示在每个递归级别上执行的额外工作。这可以包括分割问题、合并结果等操作。\n",
    "\n",
    "## 主定理的三种情况\n",
    "\n",
    "主定理包括三种可能的情况，分别对应于 $f(n)$ 和 $n^{\\log_b a}$ 的不同关系。\n",
    "\n",
    "### 情况 1\n",
    "\n",
    "如果 $f(n) = O(n^{\\log_b a - \\epsilon})$，其中 $\\epsilon > 0$ 是一个常数。这意味着 $f(n)$ 的增长速度慢于 $n^{\\log_b a}$。在这种情况下，总的运行时间主要由递归调用的数量决定，因此：\n",
    "\n",
    "$$T(n) = \\Theta(n^{\\log_b a})$$\n",
    "\n",
    "### 情况 2\n",
    "\n",
    "如果 $f(n) = \\Theta(n^{\\log_b a} \\log^k n)$，其中 $k \\geq 0$ 是一个常数。这意味着 $f(n)$ 的增长速度与 $n^{\\log_b a}$ 相当，但还需要考虑额外的对数因子。在这种情况下，总的运行时间由每个递归级别上的工作和递归调用的数量共同决定，因此：\n",
    "\n",
    "$$T(n) = \\Theta(n^{\\log_b a} \\log^{k+1} n)$$\n",
    "\n",
    "### 情况 3\n",
    "\n",
    "如果 $f(n) = \\Omega(n^{\\log_b a + \\epsilon})$，其中 $\\epsilon > 0$ 是一个常数，并且满足一定的规律性条件（通常是 $af(n/b) \\leq cf(n)$，$c < 1$）。这意味着 $f(n)$ 的增长速度快于 $n^{\\log_b a}$。在这种情况下，总的运行时间主要由每个递归级别上的工作决定，因此：\n",
    "\n",
    "$$T(n) = \\Theta(f(n))$$\n",
    "\n",
    "## 主定理在归并排序中的应用\n",
    "\n",
    "归并排序是一种典型的分治算法，其递归关系式可以表示为：$a = 2$, $b = 2$，因此 $n^{\\log_b a} = n$。这意味着归并排序将问题划分为两个子问题，每个子问题的大小是原问题的一半，而在每个递归级别上的额外工作是线性的（即，$f(n) = \\Theta(n)$）。\n",
    "\n",
    "根据主定理，我们可以看到这是第二种情况（$k=0$），因此归并排序的时间复杂度为：\n",
    "\n",
    "$$T(n) = \\Theta(n \\log n)$$\n",
    "\n",
    "这就是主定理在分析归并排序算法时间复杂度时的应用。"
   ]
  },
  {
   "cell_type": "markdown",
   "metadata": {},
   "source": [
    "主定理（Master Theorem）的三种情况并非简单地从基本的数学原理中推导出来的，而是基于递归树（recursion tree）的概念。递归树是一种可视化方法，用于展示递归算法如何将问题划分为子问题，以及每个级别的工作量是如何加起来的。\n",
    "\n",
    "在递归树中，每个节点代表一个递归调用，节点的值是该调用的工作量。树的根是原始问题，叶子节点是基本情况。一棵递归树的深度等于递归的层数，每一层的工作量是那一层所有节点的值的总和。\n",
    "\n",
    "主定理的三种情况可以视为递归树的三种不同类型：\n",
    "\n",
    "1. **情况 1：** 如果$f(n) = O(n^{\\log_b a - \\epsilon})$，其中 $\\epsilon > 0$ 是一个常数，这意味着每一层的工作量都在减小，树的上部（接近根部）有最大的工作量。在这种情况下，总的运行时间主要由递归调用的数量决定，因此 $T(n) = \\Theta(n^{\\log_b a})$。\n",
    "\n",
    "2. **情况 2：** 如果 $f(n) = \\Theta(n^{\\log_b a} \\log^k n)$，其中 $k \\geq 0$ 是一个常数，这意味着每一层的工作量大致相同。在这种情况下，总的运行时间由每个递归级别上的工作和递归调用的数量共同决定，因此 $T(n) = \\Theta(n^{\\log_b a} \\log^{k+1} n)$。\n",
    "\n",
    "3. **情况 3：** 如果 $f(n) = \\Omega(n^{\\log_b a + \\epsilon})$，其中 $\\epsilon > 0$ 是一个常数，并且满足一定的规律性条件，这意味着每一层的工作量都在增加，树的下部（接近叶子）有最大的工作量。在这种情况下，总的运行时间主要由每个递归级别上的工作决定，因此 $T(n) = \\Theta(f(n))$。\n",
    "\n",
    "这三种情况的推导都依赖于对递归树的深度和每层工作量的分析，以及如何将这些工作量加总以得到总的运行时间。虽然这种推导方法并非严格的数学证明，但它提供了一种直观的方式来理解主定理的三种情况。"
   ]
  },
  {
   "cell_type": "code",
   "execution_count": 4,
   "metadata": {},
   "outputs": [
    {
     "name": "stdout",
     "output_type": "stream",
     "text": [
      "1\n"
     ]
    }
   ],
   "source": [
    "#Binary search\n",
    "def binary_search(list, item):\n",
    "    low = 0\n",
    "    high = len(list) - 1\n",
    "    while low <= high:\n",
    "        mid = (low + high) // 2\n",
    "        guess = list[mid]\n",
    "        if guess == item:\n",
    "            return mid\n",
    "        if guess > item:\n",
    "            high = mid - 1\n",
    "        else:\n",
    "            low = mid + 1\n",
    "    return None\n",
    "my_list = [1, 3, 5, 7, 9]\n",
    "print(binary_search(my_list, 3))"
   ]
  }
 ],
 "metadata": {
  "kernelspec": {
   "display_name": "DSDA",
   "language": "python",
   "name": "python3"
  },
  "language_info": {
   "codemirror_mode": {
    "name": "ipython",
    "version": 3
   },
   "file_extension": ".py",
   "mimetype": "text/x-python",
   "name": "python",
   "nbconvert_exporter": "python",
   "pygments_lexer": "ipython3",
   "version": "3.12.1"
  }
 },
 "nbformat": 4,
 "nbformat_minor": 2
}
