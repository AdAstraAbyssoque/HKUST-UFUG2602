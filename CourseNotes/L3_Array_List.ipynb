{
 "cells": [
  {
   "cell_type": "markdown",
   "metadata": {},
   "source": [
    "# Array and List\n",
    "\n",
    "## Abstract Data Type\n",
    "\n",
    "- An abstract data type (ADT) is an abstraction of a data structure.\n",
    "\n",
    "- An ADT specifies:\n",
    "\n",
    "    - Data stored\n",
    "\n",
    "    - Operations on the data\n",
    "\n",
    "    - Error conditions associated with operations\n",
    "\n",
    "- Advantages：\n",
    "\n",
    "    - abstraction: a formal model, and provides interchangeability\n",
    "    - encapsulation: provide resuability, also aids modular design and ease of testing/debugging\n",
    "    - c.f., the “playlist” exercise\n",
    "\n",
    "## Array\n",
    "\n",
    "- A mapping from an index set, such as  $I = \\{0,1,2,\\ldots,n-1\\}$ , into a cell type\n",
    "\n",
    "- Objects: set of **contiguously stored** cells.\n",
    "\n",
    "- Operations:\n",
    "    - `create(A, n, dtype)`\n",
    "    - `A.get(v, idx)` or `A[idx]`\n",
    "    - `A.put(v, idx)` or `A[idx] = x` \n",
    "\n",
    "- **2D or $m$ D arrays:**\n",
    "    - Mapping Multi-dimensional Indices to One-dimensional Space\n",
    "    - Ordering\n",
    "    - Space-filling Curves\n",
    "    - Sparse Arrays"
   ]
  },
  {
   "cell_type": "markdown",
   "metadata": {
    "notebookRunGroups": {
     "groupValue": "1"
    }
   },
   "source": [
    "二维数组是一种常见的数据结构，用于存储表格形式的数据。它可以看作是由行(row)和列(column)构成的矩阵。"
   ]
  },
  {
   "cell_type": "code",
   "execution_count": 2,
   "metadata": {},
   "outputs": [],
   "source": [
    "nCol = 3\n",
    "nRow = 4\n",
    "A = [[0 for _ in range(nCol)] for _ in range(nRow)]"
   ]
  },
  {
   "cell_type": "markdown",
   "metadata": {},
   "source": [
    "\n",
    "我们可以通过行索引 `i` 和列索引 `j` 来访问二维数组 `A` 中的元素：\n",
    "\n",
    "```python\n",
    "A[i][j]\n",
    "```\n",
    "\n",
    "或者：\n",
    "\n",
    "```python\n",
    "A[i, j]\n",
    "```\n",
    "\n",
    "这两种访问方式在 Python 中是等价的。\n",
    "\n",
    "**二维数组的内存表示**\n",
    "\n",
    "在内存中，二维数组是按照行优先的方式存储的。也就是说，`A[i][j]` 的内存地址可以通过以下方式计算：\n",
    "\n",
    "```\n",
    "addr(A) + i * Dom(d_0) + j\n",
    "```\n",
    "\n",
    "其中，`addr(A)` 是数组 `A` 的起始地址，`Dom(d_0)` 是第 0 维（即行）的最大值。"
   ]
  },
  {
   "cell_type": "markdown",
   "metadata": {},
   "source": [
    ">在 Python 中，内存管理是由解释器（例如 CPython）自动处理的，开发者通常不需要（也不应该）直接操作内存。Python 的设计原则之一就是隐藏底层的复杂性，让开发者可以专注于编写高级代码。因此，Python 标准库和 PyPI 上的第三方库通常不会提供查看或操作内存的功能。"
   ]
  },
  {
   "cell_type": "markdown",
   "metadata": {},
   "source": [
    "#### 一维数组操作\n",
    "\n",
    "以下是一些常用的一维数组操作方法：\n",
    "\n",
    "##### 1. 聚合操作 `aggr(A)`\n",
    "\n",
    "例如：`sum`、`count`、`max`、`min`、`avg` 等。这些操作的标准函数签名为：`[dtype] -> dtype`。\n",
    "\n",
    ">在计算机科学和函数式编程中，`[dtype] -> dtype` 是一个函数签名的简化表示，它描述了函数输入和输出的数据类型。\n",
    ">\n",
    ">在这里，`[dtype] -> dtype` 表示的是一个从数据类型列表（`[dtype]`）到单个数据类型（`dtype`）的函数。这里的 `dtype` 是一个占位符，它可以代表任何数据类型，如 `int`、`float`、`string` 等。\n",
    ">\n",
    ">例如，考虑一个函数 `max`，它接受一个整数列表（例如 `[1, 2, 3]`）作为输入，并返回列表中的最大值（在这个例子中是 `3`）。这个 `max` 函数的签名就可以表示为 `[int] -> int`，这是 `[dtype] -> dtype` 的一个特定实例。\n",
    ">\n",
    ">所以，当我们说一维数组的聚合操作如 `sum`、`max`、`min` 等的函数签名是 `[dtype] -> dtype`，意思是这些函数接受一个数据类型的列表作为输入，然后返回一个相同数据类型的单个值（如列表的和、最大值、最小值等）。\n"
   ]
  },
  {
   "cell_type": "code",
   "execution_count": 38,
   "metadata": {},
   "outputs": [
    {
     "name": "stdout",
     "output_type": "stream",
     "text": [
      "15\n",
      "1\n",
      "3.0\n"
     ]
    }
   ],
   "source": [
    "#sum in list\n",
    "list1 = [1,2,3,4,5]\n",
    "print(sum(list1))\n",
    "#count in list\n",
    "print(list1.count(3))\n",
    "#avg in list\n",
    "#there is no avg in list, so we can use sum and len to calculate avg\n",
    "print(sum(list1)/len(list1))"
   ]
  },
  {
   "cell_type": "markdown",
   "metadata": {},
   "source": [
    "\n",
    "##### 2. 依赖于实现的操作\n",
    "\n",
    "- `search(key)`：搜索特定的键值。\n",
    "- `sort()`：排序数组。\n",
    "- `insert()` 和 `delete()`：插入和删除元素（将在本课程中介绍）。"
   ]
  },
  {
   "cell_type": "code",
   "execution_count": 40,
   "metadata": {},
   "outputs": [
    {
     "name": "stdout",
     "output_type": "stream",
     "text": [
      "True\n",
      "False\n",
      "[0, 1, 2, 3, 4, 5]\n",
      "[10, 1, 2, 3, 4, 5]\n",
      "[1, 2, 3, 4, 5]\n"
     ]
    }
   ],
   "source": [
    "#search in list\n",
    "print(3 in list1)\n",
    "print(6 in list1)\n",
    "#sort in list\n",
    "list1.append(0)\n",
    "list1.sort()\n",
    "print(list1)\n",
    "list1.remove(0)\n",
    "#insert in list\n",
    "list1.insert(0, 10)\n",
    "print(list1)\n",
    "#remove in list\n",
    "list1.remove(10)\n",
    "print(list1)"
   ]
  },
  {
   "cell_type": "markdown",
   "metadata": {},
   "source": [
    "\n",
    "##### 3. 迭代操作\n",
    "\n",
    "如 `map` 和 `filter`，但在 Python 中还包括列表解析。\n",
    "\n",
    "例如，有一个字符串列表 `string_numbers = ['1', '2', '3', '4', '5']`，我们可以使用 `map` 函数或列表解析将其转换为整数列表：\n",
    "\n",
    "```python\n",
    "int_numbers = list(map(int, string_numbers))  # [1, 2, 3, 4, 5]\n",
    "int_numbers = [int(s) for s in string_numbers]  # 使用列表解析\n",
    "```"
   ]
  },
  {
   "cell_type": "code",
   "execution_count": 44,
   "metadata": {},
   "outputs": [
    {
     "name": "stdout",
     "output_type": "stream",
     "text": [
      "[2, 4, 6, 8, 10]\n",
      "[1, 2, 3, 4, 5]\n",
      "[2, 4]\n"
     ]
    }
   ],
   "source": [
    "#map in list\n",
    "list2 = [1,2,3,4,5]\n",
    "list3 = list(map(lambda x: x*2, list2))\n",
    "print(list3)\n",
    "stringlist = ['1', '2', '3', '4', '5']\n",
    "list4 = list(map(int, stringlist))\n",
    "print(list4)\n",
    "#filter in list\n",
    "list4 = list(filter(lambda x: x%2==0, list2))\n",
    "print(list4)"
   ]
  },
  {
   "cell_type": "markdown",
   "metadata": {},
   "source": [
    "\n",
    "\n",
    "##### 4. 特殊情况：字符串\n",
    "\n",
    "字符串的存储和方法通常与其他类型有很大的不同。\n",
    "\n",
    ">字符串在计算机中的存储和处理方式确实与其他数据类型（如整数、浮点数等）有很大的不同。以下是一些关键的差异：\n",
    ">\n",
    ">1. **存储方式**：字符串是字符的序列。每个字符都是通过其对应的ASCII或Unicode值存储的。例如，字符串 'hello' 会被存储为一系列的字符 'h'、'e'、'l'、'l' 和 'o' 的ASCII或Unicode值。相反，整数和浮点数通常以二进制形式存储。\n",
    ">\n",
    ">2. **不可变性**：在许多编程语言中（包括Python），字符串是不可变的，意味着一旦创建，就不能更改。如果需要修改字符串，必须创建一个新的字符串。这与许多其他数据类型不同，例如，列表或数组可以在原地修改。\n",
    ">\n",
    ">3. **方法**：字符串类型有一套专门的方法进行操作，这些方法通常与其他数据类型不同。例如，字符串有用于连接（`+` 或 `.join()`）、分割（`.split()`）、替换（`.replace()`）、大小写转换（`.upper()`, `.lower()`）等的方法。虽然一些方法（如长度 `len()`）在多种数据类型中都有，但许多字符串方法是专门针对字符串操作设计的。\n",
    ">\n",
    ">4. **索引和切片**：由于字符串是字符序列，因此可以像数组一样对其进行索引和切片操作。例如，`'hello'[1]` 返回 `'e'`，`'hello'[1:3]` 返回 `'el'`。\n",
    ">\n",
    ">因此，虽然字符串在某些方面与其他数据类型有相似之处（如可以进行索引和切片操作），但在存储方式、不可变性、可用的方法等方面，字符串与其他类型有显著的不同。"
   ]
  },
  {
   "cell_type": "markdown",
   "metadata": {},
   "source": [
    "### 动态一维数组\n",
    "\n",
    "#### 问题和挑战\n",
    "\n",
    "- 静态数组分配固定大小的内存，如何实现动态数组？\n",
    "\n",
    "答案：\n",
    "\n",
    "在Python中，我们并不需要考虑这个问题，因为Python的列表（list）本身就是动态数组。它会自动处理内存分配和释放。\n",
    "\n",
    "在C++中，我们可以使用动态内存分配来创建动态数组。以下是一个简单的例子：\n",
    "\n",
    "```cpp\n",
    "int* arr = new int[10];  // 创建一个大小为10的动态数组\n",
    "```\n",
    "\n",
    "- 如何支持插入操作(`insert(x, idx)`)？\n",
    "\n",
    "答案：\n",
    "\n",
    "Python的列表已经内置了插入操作。我们可以使用`insert()`方法来插入元素。例如：\n",
    "\n",
    "```python\n",
    "lst = [1, 2, 3]\n",
    "lst.insert(1, 'a')  # 在索引1的位置插入元素'a'\n",
    "print(lst)  # 输出：[1, 'a', 2, 3]\n",
    "```\n",
    "\n",
    "在C++的动态数组中，插入操作比较复杂。我们需要创建一个新的更大的数组，将旧数组的元素复制到新数组中，然后在指定的位置插入新元素。以下是一个简单的例子：\n",
    "\n",
    "```cpp\n",
    "int* newArr = new int[11];  // 创建一个新的更大的数组\n",
    "for(int i = 0; i < idx; i++) {\n",
    "    newArr[i] = arr[i];  // 复制旧数组的元素到新数组\n",
    "}\n",
    "newArr[idx] = x;  // 插入新元素\n",
    "for(int i = idx+1; i < 11; i++) {\n",
    "    newArr[i] = arr[i-1];  // 复制旧数组的剩余元素到新数组\n",
    "}\n",
    "delete[] arr;  // 删除旧数组\n",
    "arr = newArr;  // 更新数组指针\n",
    "```\n",
    "\n",
    "- 如何支持删除操作(`delete(idx)` 和 `delete(x)`)？\n",
    "\n",
    "答案：\n",
    "\n",
    "Python的列表也内置了删除操作。我们可以使用`del`语句或者`remove()`方法来删除元素。例如：\n",
    "\n",
    "```python\n",
    "lst = [1, 'a', 2, 3]\n",
    "del lst[1]  # 删除索引1的元素\n",
    "print(lst)  # 输出：[1, 2, 3]\n",
    "\n",
    "lst.remove(2)  # 删除元素2\n",
    "print(lst)  # 输出：[1, 3]\n",
    "```\n",
    "\n",
    "在C++的动态数组中，删除操作也比较复杂。我们需要创建一个新的更小的数组，将旧数组的元素（除了要删除的元素）复制到新数组中。以下是一个简单的例子：\n",
    "\n",
    "```cpp\n",
    "int* newArr = new int[9];  // 创建一个新的更小的数组\n",
    "for(int i = 0; i < idx; i++) {\n",
    "    newArr[i] = arr[i];  // 复制旧数组的元素到新数组\n",
    "}\n",
    "for(int i = idx; i < 9; i++) {\n",
    "    newArr[i] = arr[i+1];  // 复制旧数组的剩余元素到新数组\n",
    "}\n",
    "delete[] arr;  // 删除旧数组\n",
    "arr = newArr;  // 更新数组指针\n",
    "```\n",
    "\n",
    "\n",
    "#### 初级方法\n",
    "\n",
    "- 分配更多的内存（如 `MAXSIZE`）。\n",
    "- 使用 `num_elements` 属性来支持 `size()` 方法。\n",
    "\n",
    "在Python中，这些都是自动处理的，我们不需要担心。\n",
    "\n",
    "#### 对于插入操作\n",
    "\n",
    "- 插入可能涉及向右移动元素并更新 `num_elements`。\n",
    "- 类似于 `insertion_sort()`，从尾部向头部移动元素。\n",
    "- 如果超过 `MAXSIZE`，则会出错。\n",
    "\n",
    "在Python中，这些都是由Python的内部机制自动处理的，我们不需要担心。\n",
    "\n",
    "插入可能涉及向右移动元素并更新 `num_elements`。类似于 `insertion_sort()`，从尾部向头部移动元素。如果超过 `MAXSIZE`，则会出错。\n",
    "\n",
    "在C++中，我们可以通过创建一个新的更大的数组，然后将旧数组的元素复制到新数组中，并在适当的位置插入新元素来实现这一点。我们需要自己管理元素的移动和数组大小的更新。如果新的数组大小超过了 `MAXSIZE`，我们可以抛出一个异常来处理错误。\n",
    "\n",
    "\n",
    "#### 对于删除操作\n",
    "\n",
    "- 删除可能涉及向左移动元素并更新 `num_elements`。\n",
    "- 如何移动元素？\n",
    "- 如果出现错误条件怎么办？\n",
    "\n",
    "在Python中，这些都是由Python的内部机制自动处理的，我们不需要担心。\n",
    "\n",
    "在C++中，我们可以通过创建一个新的更小的数组，然后将旧数组的元素（除了要删除的元素）复制到新数组中来删除元素。我们需要自己管理元素的移动和数组大小的更新。如果我们试图删除一个不存在的元素，我们可以抛出一个异常来处理错误。\n",
    "\n",
    "\n",
    "#### 问题\n",
    "\n",
    "- 我能否只将被删除的条目标记为无效？如果可以，需要什么数据结构和算法修改？\n",
    "\n",
    "答案：在Python中，我们通常不需要这样做。但是，如果你确实需要这样的行为，你可以创建一个新的数据结构来实现这个功能。例如，你可以使用一个额外的列表来保存被删除元素的索引。当插入或访问元素时，你需要检查这个索引是否在被删除元素的列表中。\n",
    "\n",
    "在C++中，是可以的。你可以使用一个额外的布尔数组来跟踪哪些元素是有效的。当你删除一个元素时，你只需要将对应的布尔值设为`false`。当你访问一个元素时，你需要检查对应的布尔值来确定该元素是否有效。这需要更多的内存（用于存储布尔数组），并且在访问元素时需要额外的检查，但是它可以避免在删除元素时重新分配和复制数组。\n",
    "\n",
    "#### 思考和改进\n",
    "\n",
    "- 是否有更有效的方法来实现动态数组？\n",
    "- 在插入和删除操作中，如何优化元素的移动以减少计算复杂性？\n",
    "- 在处理错误条件时，如何设计更优雅的错误处理机制？\n",
    "- 对于标记删除的条目，我们可能需要考虑如何有效地重新利用这些空间，以及如何在需要时清理这些标记为无效的条目。\n",
    "\n",
    "这些都是深入研究数据结构和算法的好问题。在Python中，由于大部分底层细节都被抽象化了，我们可以更专注于解决问题，而不是管理内存。但是，理解这些底层细节对于编写更高效的代码，或者在其他更底层的语言（如C或C++）中编程，是非常有用的。\n",
    "\n",
    "**在C++中，我们可以使用一些策略来优化动态数组的实现。例如，当数组满时，我们可以不仅仅增加一个空间，而是将数组的大小增加一倍。这可以减少插入元素时的内存分配和复制操作的频率。我们也可以使用类似的策略来处理删除操作：当数组的大小减少到一定程度时，我们可以将数组的大小减半。**\n",
    "\n",
    "对于错误处理，我们可以使用C++的异常机制来处理错误条件。例如，当我们试图插入一个元素，但数组已满时，我们可以抛出一个异常。\n",
    "\n",
    "对于标记为无效的条目，我们可以使用一种称为“懒惰删除”（lazy deletion）的策略。即，我们不立即删除元素，而是将其标记为无效。然后，当数组满时，我们可以通过创建一个新的数组，只复制有效的元素，来清理无效的元素。这种策略可以在某些情况下提高效率，但是需要更多的内存，并且在插入元素时可能需要更多的时间。"
   ]
  },
  {
   "cell_type": "markdown",
   "metadata": {},
   "source": [
    "### 复杂度计算\n",
    "\n",
    "#### 时间复杂度\n",
    "\n",
    "1. `size()`：获取数组的大小是一个常数时间操作，时间复杂度为O(1)，因为我们通常会维护一个变量来跟踪数组的当前大小。\n",
    "\n",
    "2. `insert`：插入元素的时间复杂度取决于插入的位置。\n",
    "   - 最好的情况是在数组的末尾插入元素，这是一个常数时间操作，时间复杂度为O(1)。\n",
    "   - 最坏的情况是在数组的开始处插入元素，这需要移动所有的元素，时间复杂度为O(n)。\n",
    "   - 平均情况下，假设在每个位置插入元素的概率都是均匀的，那么时间复杂度为O(n)。\n",
    "\n",
    "3. `delete`：删除元素也需要移动元素，所以时间复杂度同样为O(n)。\n",
    "\n",
    "#### 空间复杂度\n",
    "\n",
    "动态数组的空间复杂度取决于分配给数组的最大空间(`MAXSIZE`)。\n",
    "\n",
    "- 如果`MAXSIZE`设置得过大，那么未使用的空间将被浪费。\n",
    "- 如果`MAXSIZE`设置得过小，那么很容易耗尽空间，需要频繁地进行数组扩容操作。\n",
    "\n",
    "#### 解决方案：可增长的数组\n",
    "\n",
    "为了解决这些问题，我们可以使用一种叫做可增长数组的数据结构。这种数据结构没有大小限制，但是需要使用一种叫做摊销分析的技术来分析其性能。\n",
    "\n",
    "#### 何时使用动态数组？\n",
    "\n",
    "动态数组适用于插入和删除操作相对较少的情况。如果需要频繁地进行插入和删除操作，那么链表可能是一个更好的选择，因为链表的插入和删除操作的时间复杂度都是O(1)。\n"
   ]
  },
  {
   "cell_type": "markdown",
   "metadata": {},
   "source": [
    "## 链表\n",
    "\n",
    "链表是一种基础的数据结构，它将数据组织成一个逻辑序列。每个元素（称为节点）都包含数据和指向下一个元素的指针。在计算机科学中，我们经常使用抽象和透明性来简化问题，链表就是一个很好的例子。\n",
    "\n",
    "### 链表的优缺点\n",
    "\n",
    "链表的优点包括：\n",
    "\n",
    "- 可以容纳变长的数据。\n",
    "- 插入和删除操作只需要改变指针，时间复杂度为O(1)。\n",
    "\n",
    "链表的缺点包括：\n",
    "\n",
    "- 访问特定位置的元素需要从头部开始遍历，时间复杂度为O(n)。\n",
    "- 需要额外的空间来存储指针。\n",
    "\n",
    "### 链表的操作\n",
    "\n",
    "链表支持以下基本操作：\n",
    "\n",
    "- `insert(x, idx)`：在指定位置插入一个新的元素。这需要创建一个新的节点，并将其正确地链接到链表中。\n",
    "- `delete(idx)`：删除指定位置的元素。在C/C++中，需要注意内存回收问题。在Python中，这是自动处理的。\n",
    "- `iteration`：遍历链表中的所有元素。\n",
    "\n",
    "### 链表的实现\n",
    "\n",
    "链表有以下几种常见的实现：\n",
    "\n",
    "- 单向链表\n",
    "- 双向链表\n",
    "- 循环链表\n",
    "\n",
    "其中，双向链表（Doubly Linked List，简称dlist）的节点包含数据、前驱指针和后继指针。双向链表通常有一个头节点，指向链表的第一个元素，可能还有其他辅助字段，例如`num_elements`（用于快速获取链表的大小）。\n",
    "\n",
    "### 双向链表的操作\n",
    "\n",
    "双向链表支持以下操作：\n",
    "\n",
    "- `size()`：返回链表的大小。时间复杂度为O(1)。\n",
    "- `head()`：返回链表的头节点。时间复杂度为O(1)。\n",
    "- `tail()`：返回链表的尾节点。如果没有维护尾节点的指针，那么需要从头节点开始遍历，时间复杂度为O(n)。如果维护了尾节点的指针，那么可以在O(1)时间内返回尾节点，但是需要在插入和删除操作中维护这个指针。\n",
    "\n",
    "### 哨兵节点\n",
    "\n",
    "在循环双向链表中，我们可以使用一个哨兵节点来简化代码。哨兵节点是一个虚拟的节点，它的前驱指针指向链表的尾节点，后继指针指向链表的头节点。这样可以避免在操作链表时检查指针是否为空，但是需要额外的空间来存储哨兵节点。\n",
    "\n",
    "### 数组和链表的比较\n",
    "\n",
    "- 存储方式：数组的元素在内存中是连续存储的，而链表的元素可以分散在内存中的任何位置。\n",
    "- 访问元素：数组可以在O(1)时间内访问任何位置的元素，而链表需要从头部开始遍历，时间复杂度为O(n)。\n",
    "- 插入和删除：数组的插入和删除操作需要移动元素，时间复杂度为O(n)。链表的插入和删除操作只需要改变指针，时间复杂度为O(1)。\n",
    "- 查找元素：如果数组和链表都是无序的，那么查找元素的时间复杂度都是O(n)。\n",
    "\n",
    "总的来说，数组和链表都有各自的优点和缺点，应根据具体的应用场景来选择使用哪种数据结构。"
   ]
  },
  {
   "cell_type": "code",
   "execution_count": 5,
   "metadata": {},
   "outputs": [],
   "source": [
    "#不用管这个玩意，这是用来调整vsCode的字体的"
   ]
  },
  {
   "cell_type": "code",
   "execution_count": 4,
   "metadata": {},
   "outputs": [
    {
     "data": {
      "text/html": [
       "<style>\n",
       "    body {\n",
       "        --vscode-font-family: \"Consolas\", \"等线\"\n",
       "    }\n",
       "</style>\n"
      ],
      "text/plain": [
       "<IPython.core.display.HTML object>"
      ]
     },
     "metadata": {},
     "output_type": "display_data"
    }
   ],
   "source": [
    "%%HTML\n",
    "<style>\n",
    "    body {\n",
    "        --vscode-font-family: \"Consolas\", \"等线\"\n",
    "    }\n",
    "</style>"
   ]
  }
 ],
 "metadata": {
  "kernelspec": {
   "display_name": "DSDA",
   "language": "python",
   "name": "python3"
  },
  "language_info": {
   "codemirror_mode": {
    "name": "ipython",
    "version": 3
   },
   "file_extension": ".py",
   "mimetype": "text/x-python",
   "name": "python",
   "nbconvert_exporter": "python",
   "pygments_lexer": "ipython3",
   "version": "3.12.1"
  }
 },
 "nbformat": 4,
 "nbformat_minor": 2
}
