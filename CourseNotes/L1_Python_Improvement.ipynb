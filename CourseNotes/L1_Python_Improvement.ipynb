{
 "cells": [
  {
   "cell_type": "markdown",
   "metadata": {},
   "source": [
    "# Python Skill improvement\n",
    "## Python\n",
    "- Basic of the languages\n",
    "    - control flows\n",
    "- Basic Datatype\n",
    "    - Int, float, bool\n",
    "    - list, dict, set\n",
    "- Modules\n",
    "    - importing and executing\n",
    "    - commonly used functions\n",
    "## Functions in Python - Essentials\n",
    "> **Namespace:** `local` `global`\n",
    "Functions are first class objects\n",
    "All functions returns some values.(Possibly None)\n",
    "Functions call creates a new namespace.\n",
    "Parameters are passed by object reference.\n",
    "Functions can have optional keyword arguments."
   ]
  },
  {
   "cell_type": "code",
   "execution_count": 1,
   "metadata": {},
   "outputs": [
    {
     "name": "stdout",
     "output_type": "stream",
     "text": [
      "3\n"
     ]
    }
   ],
   "source": [
    "def sum(n,m):\n",
    "    return n+m\n",
    "print(sum(1,2))"
   ]
  },
  {
   "cell_type": "code",
   "execution_count": 2,
   "metadata": {},
   "outputs": [
    {
     "name": "stdout",
     "output_type": "stream",
     "text": [
      "8\n"
     ]
    }
   ],
   "source": [
    "print(sum(m=5,n=3))"
   ]
  },
  {
   "cell_type": "code",
   "execution_count": 3,
   "metadata": {},
   "outputs": [
    {
     "name": "stdout",
     "output_type": "stream",
     "text": [
      "6\n"
     ]
    }
   ],
   "source": [
    "def special_sum(n,m=5):\n",
    "    return n+m\n",
    "print(special_sum(1))"
   ]
  },
  {
   "cell_type": "markdown",
   "metadata": {},
   "source": [
    "As everything in Python, also functions are object, of class function."
   ]
  },
  {
   "cell_type": "code",
   "execution_count": 4,
   "metadata": {},
   "outputs": [
    {
     "name": "stdout",
     "output_type": "stream",
     "text": [
      "<function echo at 0x000002166E74FA60>\n",
      "<function echo at 0x000002166E74FA60>\n"
     ]
    }
   ],
   "source": [
    "def echo(args):\n",
    "    return args\n",
    "type(echo)\n",
    "hex(id(echo))\n",
    "print(echo)\n",
    "foo = echo\n",
    "hex(id(foo))\n",
    "print(foo)"
   ]
  },
  {
   "cell_type": "markdown",
   "metadata": {},
   "source": [
    "The comment after the function header is bound to the doc special attribute"
   ]
  },
  {
   "cell_type": "code",
   "execution_count": 5,
   "metadata": {},
   "outputs": [
    {
     "name": "stdout",
     "output_type": "stream",
     "text": [
      " Summary line: do nothing, but document it. \n",
      "    Description: No, really, it doesn't do anything. \n",
      "    \n"
     ]
    }
   ],
   "source": [
    "def my_function():\n",
    "    \"\"\" Summary line: do nothing, but document it. \n",
    "    Description: No, really, it doesn't do anything. \n",
    "    \"\"\"\n",
    "    pass\n",
    "print(my_function.__doc__)"
   ]
  },
  {
   "cell_type": "markdown",
   "metadata": {},
   "source": [
    "Higher-order functions\n",
    "- Functions can be passed as argument and returned as result\n",
    "- Main combinator (map, filter) predefined: allow \n",
    "standard functional programming style in Python\n",
    "- Heavy use of iterators, which support laziness\n",
    "- Lambdas supported for use with combinator`lambda arguments: expression`\n",
    "    – The body can only be a single expression"
   ]
  },
  {
   "cell_type": "code",
   "execution_count": 6,
   "metadata": {},
   "outputs": [
    {
     "name": "stdout",
     "output_type": "stream",
     "text": [
      "map(func, *iterables) --> map object\n",
      "\n",
      "Make an iterator that computes the function using arguments from\n",
      "each of the iterables.  Stops when the shortest iterable is exhausted.\n"
     ]
    }
   ],
   "source": [
    "print(map.__doc__)"
   ]
  },
  {
   "cell_type": "code",
   "execution_count": 7,
   "metadata": {},
   "outputs": [
    {
     "data": {
      "text/plain": [
       "<map at 0x2166e78e050>"
      ]
     },
     "execution_count": 7,
     "metadata": {},
     "output_type": "execute_result"
    }
   ],
   "source": [
    "map(lambda x:x+1,range(4))"
   ]
  },
  {
   "cell_type": "code",
   "execution_count": 8,
   "metadata": {},
   "outputs": [
    {
     "data": {
      "text/plain": [
       "[1, 2, 3, 4]"
      ]
     },
     "execution_count": 8,
     "metadata": {},
     "output_type": "execute_result"
    }
   ],
   "source": [
    "list(map(lambda x:x+1,range(4)))"
   ]
  },
  {
   "cell_type": "code",
   "execution_count": 9,
   "metadata": {},
   "outputs": [
    {
     "data": {
      "text/plain": [
       "[0, 2, 4, 6]"
      ]
     },
     "execution_count": 9,
     "metadata": {},
     "output_type": "execute_result"
    }
   ],
   "source": [
    "list(map(lambda x,y:x+y,range(4),range(10)))"
   ]
  },
  {
   "cell_type": "code",
   "execution_count": 10,
   "metadata": {},
   "outputs": [
    {
     "data": {
      "text/plain": [
       "[5, 6, 7, 8]"
      ]
     },
     "execution_count": 10,
     "metadata": {},
     "output_type": "execute_result"
    }
   ],
   "source": [
    "z = 5\n",
    "list(map(lambda x : x+z, range(4)))"
   ]
  },
  {
   "cell_type": "markdown",
   "metadata": {},
   "source": [
    "**`Listcomprehension`** can replace uses of `map`"
   ]
  },
  {
   "cell_type": "code",
   "execution_count": 11,
   "metadata": {},
   "outputs": [
    {
     "data": {
      "text/plain": [
       "[1, 2, 3, 4]"
      ]
     },
     "execution_count": 11,
     "metadata": {},
     "output_type": "execute_result"
    }
   ],
   "source": [
    "[x+1 for x in range(4)]"
   ]
  },
  {
   "cell_type": "code",
   "execution_count": 12,
   "metadata": {},
   "outputs": [
    {
     "data": {
      "text/plain": [
       "[0, 2, 4, 6]"
      ]
     },
     "execution_count": 12,
     "metadata": {},
     "output_type": "execute_result"
    }
   ],
   "source": [
    "[x+y for (x,y) in zip(range(4),range(10))]"
   ]
  },
  {
   "cell_type": "code",
   "execution_count": 13,
   "metadata": {},
   "outputs": [
    {
     "name": "stdout",
     "output_type": "stream",
     "text": [
      "zip(*iterables, strict=False) --> Yield tuples until an input is exhausted.\n",
      "\n",
      "   >>> list(zip('abcdefg', range(3), range(4)))\n",
      "   [('a', 0, 0), ('b', 1, 1), ('c', 2, 2)]\n",
      "\n",
      "The zip object yields n-length tuples, where n is the number of iterables\n",
      "passed as positional arguments to zip().  The i-th element in every tuple\n",
      "comes from the i-th iterable argument to zip().  This continues until the\n",
      "shortest argument is exhausted.\n",
      "\n",
      "If strict is true and one of the arguments is exhausted before the others,\n",
      "raise a ValueError.\n"
     ]
    }
   ],
   "source": [
    "print(zip.__doc__)"
   ]
  },
  {
   "cell_type": "code",
   "execution_count": 14,
   "metadata": {},
   "outputs": [
    {
     "name": "stdout",
     "output_type": "stream",
     "text": [
      "filter(function or None, iterable) --> filter object\n",
      "\n",
      "Return an iterator yielding those items of iterable for which function(item)\n",
      "is true. If function is None, return the items that are true.\n"
     ]
    }
   ],
   "source": [
    "print(filter. __doc__)"
   ]
  },
  {
   "cell_type": "code",
   "execution_count": 2,
   "metadata": {},
   "outputs": [
    {
     "data": {
      "text/plain": [
       "<filter at 0x2a4f65cd9f0>"
      ]
     },
     "execution_count": 2,
     "metadata": {},
     "output_type": "execute_result"
    }
   ],
   "source": [
    "filter(lambda x : x % 2 == 0,[1,2,3,4,5,6])"
   ]
  },
  {
   "cell_type": "code",
   "execution_count": 3,
   "metadata": {},
   "outputs": [
    {
     "data": {
      "text/plain": [
       "[2, 4, 6]"
      ]
     },
     "execution_count": 3,
     "metadata": {},
     "output_type": "execute_result"
    }
   ],
   "source": [
    "list(_)"
   ]
  },
  {
   "cell_type": "markdown",
   "metadata": {},
   "source": [
    "More modules for functional programming in Python"
   ]
  },
  {
   "cell_type": "markdown",
   "metadata": {},
   "source": [
    "Decorators："
   ]
  },
  {
   "cell_type": "markdown",
   "metadata": {},
   "source": [
    "Basic idea: wrapping a function, use in debug mode"
   ]
  },
  {
   "cell_type": "code",
   "execution_count": 17,
   "metadata": {},
   "outputs": [
    {
     "name": "stdout",
     "output_type": "stream",
     "text": [
      "Before call\n",
      "Whee!\n",
      "After call\n"
     ]
    }
   ],
   "source": [
    "def my_decorator(func):\n",
    "    def wrapper():\n",
    "        print(\"Before call\")\n",
    "        func()\n",
    "        print(\"After call\")\n",
    "    return wrapper\n",
    "# use in debug mode\n",
    "def say_whee():\n",
    "    print(\"Whee!\")\n",
    "say_whee = my_decorator(say_whee)\n",
    "say_whee()"
   ]
  },
  {
   "cell_type": "code",
   "execution_count": 18,
   "metadata": {},
   "outputs": [
    {
     "name": "stdout",
     "output_type": "stream",
     "text": [
      "Whee!\n",
      "Whee!\n"
     ]
    }
   ],
   "source": [
    "def do_twice(func):\n",
    "    def wrapper_do_twice():\n",
    "        func() # the wrapper calls the \n",
    "        func() # argument twice\n",
    "    return wrapper_do_twice\n",
    "@do_twice\n",
    "def say_whee():\n",
    "    print(\"Whee!\")\n",
    "say_whee()"
   ]
  },
  {
   "cell_type": "code",
   "execution_count": 19,
   "metadata": {},
   "outputs": [],
   "source": [
    "@do_twice\n",
    "def echo(str):\n",
    "    print(str)\n",
    "#echo(\"Hello\")\n",
    "#do_twice.<locals>.wrapper_do_twice() takes 0 positional arguments but 1 was given\n",
    "#echo()\n",
    "#echo() missing 1 required positional argument: 'str'"
   ]
  },
  {
   "cell_type": "markdown",
   "metadata": {},
   "source": [
    "Page 21 ......"
   ]
  },
  {
   "cell_type": "markdown",
   "metadata": {},
   "source": [
    "## OOP\n",
    "**OOP example 1**"
   ]
  },
  {
   "cell_type": "code",
   "execution_count": 20,
   "metadata": {},
   "outputs": [],
   "source": [
    "class Point:\n",
    "    x = 0\n",
    "    y = 0\n",
    "    def str():\n",
    "        return \"x=\"+str(Point.x)+\",y=\"+str(Point.y)\n",
    "p1 = Point()\n",
    "p2 = Point()"
   ]
  },
  {
   "cell_type": "code",
   "execution_count": 21,
   "metadata": {},
   "outputs": [
    {
     "name": "stdout",
     "output_type": "stream",
     "text": [
      "0\n"
     ]
    }
   ],
   "source": [
    "print(p1.y)"
   ]
  },
  {
   "cell_type": "code",
   "execution_count": 22,
   "metadata": {},
   "outputs": [
    {
     "name": "stdout",
     "output_type": "stream",
     "text": [
      "5 5\n"
     ]
    }
   ],
   "source": [
    "Point.y = 5\n",
    "print(p1.y,p2.y)"
   ]
  },
  {
   "cell_type": "code",
   "execution_count": 23,
   "metadata": {},
   "outputs": [
    {
     "name": "stdout",
     "output_type": "stream",
     "text": [
      "10 5\n"
     ]
    }
   ],
   "source": [
    "p1.y = 10\n",
    "print(p1.y,p2.y)"
   ]
  },
  {
   "cell_type": "markdown",
   "metadata": {},
   "source": [
    "**OOP example 2**\n",
    "\n",
    "some special methods for some binary operators"
   ]
  },
  {
   "cell_type": "code",
   "execution_count": 24,
   "metadata": {},
   "outputs": [
    {
     "name": "stdout",
     "output_type": "stream",
     "text": [
      "x=1,y=2\n",
      "False\n",
      "True\n",
      "x=4,y=6\n",
      "False\n"
     ]
    }
   ],
   "source": [
    "class enhance_Point:\n",
    "    def __init__(self,x,y):\n",
    "        self.x = x\n",
    "        self.y = y\n",
    "    def __str__(self):\n",
    "        return \"x=\"+str(self.x)+\",y=\"+str(self.y)\n",
    "    def __eq__(self, __value: object) -> bool:\n",
    "        return self.x == __value.x and self.y == __value.y\n",
    "    def __add__(self, __value: object):\n",
    "        return enhance_Point(self.x + __value.x,self.y + __value.y)\n",
    "p1 = enhance_Point(1,2)\n",
    "p2 = enhance_Point(3,4)\n",
    "p3 = enhance_Point(1,2)\n",
    "print(p1)\n",
    "print(p1 == p2)\n",
    "print(p1 == p3)\n",
    "print(p1 + p2)\n",
    "p1 = Point()\n",
    "p2 = Point()\n",
    "print(p1 == p2)"
   ]
  },
  {
   "cell_type": "markdown",
   "metadata": {},
   "source": [
    "**Workflow Explanation**\n",
    "\n",
    "This workflow involves a series of steps and dependencies between different components. Here's a breakdown of the process:\n",
    "\n",
    "1. A -> B (abc)\n",
    "   - This step indicates a dependency between component A and component B, where B requires input from A in the form of \"abc\".\n",
    "\n",
    "2. A -> C (abc)\n",
    "   - This step indicates another dependency between component A and component C, where C also requires input from A in the form of \"abc\".\n",
    "\n",
    "3. C -> D (derived from B and C)\n",
    "   - This step indicates a dependency between component C and component D, where D is derived from the outputs of both B and C.\n",
    "\n",
    "4. D.abc()\n",
    "   - This step represents a method call on component D, where the method \"abc()\" is invoked.\n",
    "\n",
    "The overall workflow can be summarized as follows:\n",
    "\n",
    "1. A provides input \"abc\" to both B and C.\n",
    "2. B and C process the input and produce their respective outputs.\n",
    "3. The output of B and C is then used to derive component D.\n",
    "4. Finally, a method \"abc()\" is called on D."
   ]
  },
  {
   "cell_type": "markdown",
   "metadata": {},
   "source": [
    "## Mangling\n",
    "Name mangling is helpful for letting subclasses override methods without breaking intraclass method calls."
   ]
  },
  {
   "cell_type": "code",
   "execution_count": 25,
   "metadata": {},
   "outputs": [],
   "source": [
    "class Mapping:\n",
    "    def __init__(self, iterable): \n",
    "        self.items_list = [] \n",
    "        self.update(iterable)\n",
    "    \n",
    "    def update(self, iterable): \n",
    "        for item in iterable:\n",
    "            self.items_list.append(item)\n",
    "    \n",
    "    update = update # private copy of update() method \n",
    "\n",
    "class MappingSubclass(Mapping):\n",
    "    def update(self, keys, values):\n",
    "        # provides new signature for update() \n",
    "        # but does not break init ()\n",
    "        for item in zip(keys, values):\n",
    "            self.items_list.append(item)"
   ]
  },
  {
   "cell_type": "markdown",
   "metadata": {},
   "source": [
    "## Iterators"
   ]
  },
  {
   "cell_type": "code",
   "execution_count": 26,
   "metadata": {},
   "outputs": [
    {
     "name": "stdout",
     "output_type": "stream",
     "text": [
      "<list_iterator object at 0x000002166E78FE80>\n",
      "1\n",
      "2\n"
     ]
    }
   ],
   "source": [
    "list = [1,2]\n",
    "it = iter(list)\n",
    "print(it)\n",
    "print(next(it))\n",
    "print(next(it))"
   ]
  },
  {
   "cell_type": "code",
   "execution_count": 27,
   "metadata": {},
   "outputs": [
    {
     "name": "stdout",
     "output_type": "stream",
     "text": [
      "0\n",
      "1\n",
      "2\n",
      "or\n",
      "0\n",
      "1\n",
      "2\n"
     ]
    }
   ],
   "source": [
    "for x in range(3):\n",
    "    print(x)\n",
    "# or \n",
    "print(\"or\")\n",
    "for x in [elements for elements in range(3)]:\n",
    "    print(x)"
   ]
  },
  {
   "cell_type": "markdown",
   "metadata": {},
   "source": [
    "\n",
    "\"Lazy sequence\"（延迟序列）是一种数据结构，它允许按需生成和访问数据，而不是一次性生成和存储所有数据。在计算机编程中，这种延迟计算的方式可以提高性能和效率。\n",
    "\n",
    "通常，当我们使用传统的序列（如列表或数组）时，所有的数据都会在内存中一次性生成和存储。这可能会导致内存占用过高，尤其是当处理大量数据时。而延迟序列则可以避免这个问题。\n",
    "\n",
    "延迟序列的特点是，它只在需要时才会生成和计算数据。当我们访问延迟序列中的元素时，它会根据需要进行计算，并返回结果。这种按需计算的方式可以节省内存，并且在处理大型数据集时非常有用。\n",
    "\n",
    "延迟序列的一个常见应用是在函数式编程中。在函数式编程中，我们可以使用延迟序列来表示无限序列，例如自然数序列、斐波那契数列等。由于延迟序列只在需要时计算，因此我们可以方便地处理无限序列而不会耗尽内存。\n",
    "\n",
    "下面是一个简单的示例，展示了如何使用延迟序列来表示自然数序列："
   ]
  },
  {
   "cell_type": "code",
   "execution_count": 28,
   "metadata": {},
   "outputs": [
    {
     "name": "stdout",
     "output_type": "stream",
     "text": [
      "0\n",
      "1\n",
      "2\n"
     ]
    }
   ],
   "source": [
    "def natural_numbers():\n",
    "    num = 0\n",
    "    while True:\n",
    "        yield num\n",
    "        num += 1\n",
    "\n",
    "# 使用延迟序列生成自然数序列\n",
    "numbers = natural_numbers()\n",
    "\n",
    "# 访问序列中的元素\n",
    "print(next(numbers))  # 输出：0\n",
    "print(next(numbers))  # 输出：1\n",
    "print(next(numbers))  # 输出：2"
   ]
  },
  {
   "cell_type": "markdown",
   "metadata": {},
   "source": [
    "\n",
    "\n",
    "在这个示例中，`natural_numbers` 函数使用 `yield` 关键字创建了一个延迟序列。每次调用 `next` 函数时，序列会生成下一个自然数并返回。由于序列是延迟计算的，我们可以无限地访问自然数序列而不会耗尽内存。\n",
    "\n",
    "总之，延迟序列是一种按需生成和访问数据的数据结构，可以提高性能和节省内存。它在处理大型数据集或表示无限序列时非常有用。\n",
    "\n",
    "在某些情况下，不使用延迟序列（lazy sequence）可能会更好：\n",
    "\n",
    "1. **数据量小**：如果你正在处理的数据量很小，那么使用延迟序列可能不会带来太大的性能提升，而且可能会使代码变得更复杂。\n",
    "\n",
    "2. **需要频繁访问**：如果你需要频繁地访问序列中的所有元素，那么使用延迟序列可能会导致性能下降。因为每次访问延迟序列中的元素时，都需要重新计算，而非延迟序列则可以直接从内存中获取数据。\n",
    "\n",
    "3. **需要随机访问**：延迟序列通常只支持顺序访问，如果你需要随机访问序列中的元素，那么使用非延迟序列（如列表或数组）可能会更方便。\n",
    "\n",
    "4. **需要知道序列的长度**：如果你需要知道序列的长度，那么使用非延迟序列可能会更方便，因为你可以直接使用`len()`函数。而对于延迟序列，你可能需要遍历整个序列才能得到长度。\n",
    "\n",
    "总的来说，是否使用延迟序列取决于你的具体需求和你正在处理的数据的特性。在选择使用延迟序列还是非延迟序列时，你需要考虑到这些因素。"
   ]
  },
  {
   "cell_type": "markdown",
   "metadata": {},
   "source": [
    "## Typing in Python\n",
    "- Dynamic, strong duck typing\n",
    "- Code can be annotated with types\n",
    "```python\n",
    "def greetings(name:str) -> str:\n",
    "    return 'Hello' + name\n",
    "```\n",
    "- Module typing provides runtime support for type hints\n",
    "- Type hints can be checked statically by external tools, like mypy\n",
    "- They are ignored by CPython"
   ]
  },
  {
   "cell_type": "markdown",
   "metadata": {},
   "source": [
    "### Dynamic Adding Methods"
   ]
  },
  {
   "cell_type": "code",
   "execution_count": 37,
   "metadata": {},
   "outputs": [],
   "source": [
    "class User:\n",
    "    pass"
   ]
  },
  {
   "cell_type": "markdown",
   "metadata": {},
   "source": [
    "### Duck Typing\n",
    "“If it walks like a duck, and it quacks like a duck, then it must be a duck.”\n",
    "\n",
    "> GPT says:\n",
    ">\n",
    ">\"Duck typing\" 是一种编程概念，尤其在动态类型的语言中，如 Python，广泛使用。这个概念的名字来源于“如果它走路像鸭子，叫声像鸭子，那么它就是鸭子”的说法。\n",
    ">\n",
    ">在应用 \"Duck typing\" 的编程环境中，对象的类型或类别不如它的方法或属性重要。你不检查对象的类型，而是检查是否存在给定的方法或属性。\n",
    ">\n",
    ">例如，在 Python 中，你可能会写出以下的代码：\n",
    ">\n"
   ]
  },
  {
   "cell_type": "code",
   "execution_count": null,
   "metadata": {},
   "outputs": [],
   "source": [
    "def quack_and_waddle(thing):\n",
    "    try:\n",
    "        thing.quack()\n",
    "        thing.waddle()\n",
    "    except AttributeError:\n",
    "        print(\"This thing is not a duck!\")"
   ]
  },
  {
   "cell_type": "markdown",
   "metadata": {},
   "source": [
    "\n",
    ">\n",
    ">在这个例子中，`quack_and_waddle` 函数并不在乎输入的 `thing` 是什么类型，只要它有 `quack` 和 `waddle` 这两个方法就可以。如果一个对象有这两个方法，那么在 \"Duck typing\" 的观念下，我们就可以把它当作鸭子来处理。"
   ]
  },
  {
   "cell_type": "code",
   "execution_count": 29,
   "metadata": {},
   "outputs": [
    {
     "name": "stdout",
     "output_type": "stream",
     "text": [
      "95022\n"
     ]
    }
   ],
   "source": [
    "#Duck Typing\n",
    "class TheHobbit:\n",
    "    def __len__(self):\n",
    "        return 95022\n",
    "the_hobbit = TheHobbit()\n",
    "print(len(the_hobbit))"
   ]
  },
  {
   "cell_type": "markdown",
   "metadata": {},
   "source": [
    "### Syntax of tuples\n",
    "Tuples are made by the commas, not by ()"
   ]
  },
  {
   "cell_type": "code",
   "execution_count": 33,
   "metadata": {},
   "outputs": [
    {
     "data": {
      "text/plain": [
       "tuple"
      ]
     },
     "execution_count": 33,
     "metadata": {},
     "output_type": "execute_result"
    }
   ],
   "source": [
    "type((1,2,3))"
   ]
  },
  {
   "cell_type": "code",
   "execution_count": 34,
   "metadata": {},
   "outputs": [
    {
     "data": {
      "text/plain": [
       "tuple"
      ]
     },
     "execution_count": 34,
     "metadata": {},
     "output_type": "execute_result"
    }
   ],
   "source": [
    "type(())"
   ]
  },
  {
   "cell_type": "code",
   "execution_count": 35,
   "metadata": {},
   "outputs": [
    {
     "data": {
      "text/plain": [
       "tuple"
      ]
     },
     "execution_count": 35,
     "metadata": {},
     "output_type": "execute_result"
    }
   ],
   "source": [
    "type((1,))"
   ]
  },
  {
   "cell_type": "code",
   "execution_count": 36,
   "metadata": {},
   "outputs": [
    {
     "data": {
      "text/plain": [
       "int"
      ]
     },
     "execution_count": 36,
     "metadata": {},
     "output_type": "execute_result"
    }
   ],
   "source": [
    "type((1))"
   ]
  },
  {
   "cell_type": "markdown",
   "metadata": {},
   "source": [
    "### Criticisms to python - indentation\n",
    "Without the blanket just make some inconvenience.\n",
    "\n",
    "```python\n",
    "def foo(x):\n",
    "    if x == 0:\n",
    "        bar()\n",
    "        baz() \n",
    "    else:\n",
    "        qux(x) \n",
    "        foo(x - 1)\n",
    "```\n",
    "\n",
    "is not\n",
    "```python\n",
    "def foo(x):\n",
    "    if x == 0:\n",
    "        bar()\n",
    "        baz() \n",
    "    else:\n",
    "        qux(x) \n",
    "    foo(x - 1)\n",
    "```"
   ]
  }
 ],
 "metadata": {
  "kernelspec": {
   "display_name": "Python 3",
   "language": "python",
   "name": "python3"
  },
  "language_info": {
   "codemirror_mode": {
    "name": "ipython",
    "version": 3
   },
   "file_extension": ".py",
   "mimetype": "text/x-python",
   "name": "python",
   "nbconvert_exporter": "python",
   "pygments_lexer": "ipython3",
   "version": "3.12.1"
  }
 },
 "nbformat": 4,
 "nbformat_minor": 2
}
