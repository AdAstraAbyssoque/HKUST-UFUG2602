{
 "cells": [
  {
   "cell_type": "markdown",
   "metadata": {},
   "source": [
    "# Asymptotic Analysis\n",
    "\n",
    "## GPT says\n",
    "\n",
    "渐进分析（Asymptotic Analysis）是一种用于描述算法性能的方式，特别是在计算机科学和数学中用于分析算法的时间复杂度和空间复杂度。\n",
    "\n",
    "在渐进分析中，我们主要关注输入规模趋于无穷大时的情况。换句话说，我们关注的是当输入规模足够大时，算法的行为表现。这就是为什么我们经常在算法分析中看到大O记号（$O$）、大Ω记号（$\\Omega$）和大Θ记号（$\\Theta$）。\n",
    "\n",
    "1. 大O记号（$O$）给出了算法的上界，表示在最坏的情况下，算法的运行时间（或空间）是多少。例如，如果一个算法的运行时间是 $O(n^2)$，那么当输入规模足够大时，算法的运行时间将不超过 $n^2$ 的某个常数倍。\n",
    "\n",
    "2. 大Ω记号（$\\Omega$）给出了算法的下界，表示在最好的情况下，算法的运行时间（或空间）是多少。例如，如果一个算法的运行时间是 $\\Omega(n)$，那么无论输入规模多大，算法的运行时间至少是 $n$ 的某个常数倍。\n",
    "\n",
    "3. 大Θ记号（$\\Theta$）给出了算法的紧确界，表示在平均情况下，算法的运行时间（或空间）是多少。例如，如果一个算法的运行时间是 $\\Theta(n \\log n)$，那么当输入规模足够大时，算法的运行时间将接近于 $n \\log n$ 的某个常数倍。\n",
    "\n",
    "渐进分析的主要优点是它可以帮助我们忽略常数因子和低阶项，使我们能够更清楚地看到算法性能随着输入规模增大的基本趋势。\n"
   ]
  },
  {
   "cell_type": "markdown",
   "metadata": {},
   "source": [
    "\n",
    "## Introduction\n",
    "\n",
    "### Data Structures and Algorithms\n",
    "\n",
    "- Algorithm\n",
    "    The essence of a computational procedure, step-by-step instructions\n",
    "- Program\n",
    "    An implementation\n",
    "- Data Structure\n",
    "    Organization of data\n",
    "\n",
    "### Algorithmic problems\n",
    "\n",
    "Infinite number of input instances satisfying the specification.\n",
    "\n",
    "Also, it contains the procedure of finding and candling the corner cases.\n",
    "\n",
    "It should also be compressed that actually, there might exist many different correct algorithms to solve one question.\n",
    "\n",
    "A Good Algorism:\n",
    "   - Efficient:\n",
    "       - Running time\n",
    "       - Space used\n",
    "   - Efficiency as a function of input size\n",
    "       - The number of bits in an input numbers\n",
    "       - Number of data elements (numbers, points)\n",
    "\n",
    "### Measuring the Running Time\n",
    "\n",
    "Take consider the prime check as an example.\n",
    "\n",
    "When talking about different cases in the sample count, such as `[2,3,5,7,11]` and `[4,8,16,17,32]`\n",
    "\n",
    "The results might make a range even if the count is same, it may turns out to be a distribution.\n",
    "\n",
    "In that way, measuring the running time might be difficult.\n",
    "\n",
    "We can use experimental studies to system call our functions about the running time in variable cases, but it has limitations.\n",
    "\n",
    "1. the set of inputs\n",
    "\n",
    "2. the hard implement\n",
    "\n",
    "3. the same hardware and software environments needed (it occurs me the docker)\n",
    "\n",
    "So beyond the Experimental Studies, **We develop a general methodology called `Asymptotic Analysis`**, which uses **a high-level description of the algorithm, takes into account **all possible inputs**, evaluates the efficiency of any algorithm in a way that is **independent of the hardware and software environment**.\n"
   ]
  },
  {
   "cell_type": "markdown",
   "metadata": {},
   "source": [
    "## Examples\n",
    "Algorithm `arrayMax(A, n)`:\n",
    "\n",
    "Pseudo-code(Functional/Recursive):\n",
    "\n",
    "```\n",
    "algorithm arrayMax(A[0..n-1])\n",
    "{\n",
    "    A[0] ... if n=1\n",
    "    max(arrayMax(A[0..n-2]), A[n-1]) ... otherwise\n",
    "}\n",
    "```\n",
    "The hardcore of this kind of method should be math induction.\n",
    "\n",
    "### arrayMax"
   ]
  },
  {
   "cell_type": "code",
   "execution_count": 13,
   "metadata": {},
   "outputs": [],
   "source": [
    "#Initial kind of code:\n",
    "def arrayMax(a):\n",
    "    if len(a) == 1:\n",
    "        return a[0]\n",
    "    else:\n",
    "        return max(a[0], arrayMax(a[1:]))"
   ]
  },
  {
   "cell_type": "code",
   "execution_count": 17,
   "metadata": {},
   "outputs": [],
   "source": [
    "#use `for`\n",
    "def arrayMax2(a,curMax=0):\n",
    "    for i in a:\n",
    "        if i > curMax:\n",
    "            curMax = i\n",
    "    return curMax"
   ]
  },
  {
   "cell_type": "markdown",
   "metadata": {},
   "source": [
    "### About Pseudo Code:\n",
    "- Pseudo code eschews strict syntax and language-specific details, allowing readers to focus more on the structure and idea of the algorithm.\n",
    "- Pseudo code employs standard mathematical symbols to express numerical and Boolean expressions, as well as particular symbols for assignment and equality comparison.\n",
    "- Pseudo code supports various programming constructs, such as decision structures (if-then-else), loops (while, repeat-until, for), and array indexing.\n",
    "- Pseudo code also includes programming concepts like method declaration, calls, and returns."
   ]
  },
  {
   "cell_type": "markdown",
   "metadata": {},
   "source": [
    "### Example: Sorting"
   ]
  },
  {
   "cell_type": "code",
   "execution_count": 18,
   "metadata": {},
   "outputs": [],
   "source": [
    "#input: sequence of numbers\n",
    "#output: a permutation of the sequence that is sorted\n",
    "\n",
    "def hasSorted(a):\n",
    "    if len(a) == 1:\n",
    "        return True\n",
    "    else:\n",
    "        return a[0] <= a[1] and hasSorted(a[1:])\n",
    "    \n",
    "def hasSorted2(a):\n",
    "    for i in range(len(a)-1):\n",
    "        if a[i] > a[i+1]:\n",
    "            return False\n",
    "    return True"
   ]
  }
 ],
 "metadata": {
  "kernelspec": {
   "display_name": "Python 3",
   "language": "python",
   "name": "python3"
  },
  "language_info": {
   "codemirror_mode": {
    "name": "ipython",
    "version": 3
   },
   "file_extension": ".py",
   "mimetype": "text/x-python",
   "name": "python",
   "nbconvert_exporter": "python",
   "pygments_lexer": "ipython3",
   "version": "3.12.1"
  }
 },
 "nbformat": 4,
 "nbformat_minor": 2
}
