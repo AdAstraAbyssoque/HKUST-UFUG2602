{
 "cells": [
  {
   "cell_type": "markdown",
   "metadata": {},
   "source": [
    "# Heap"
   ]
  },
  {
   "cell_type": "markdown",
   "metadata": {},
   "source": [
    "## 重新审视 FindMin 函数\n",
    "\n",
    "FindMin 函数在很多场景中都有应用，主要用于快速找到最小值（或最高优先级）的项目。\n",
    "\n",
    "1. **操作系统调度**：操作系统需要根据优先级而不是先进先出（FIFO）的方式来调度任务。例如，一些高优先级的任务应当优先得到处理。\n",
    "\n",
    "2. **事件模拟**：在模拟一些事件（如银行客户的到来和离去）时，我们需要按照事件发生的顺序来排序。这样可以帮助我们更好地理解和模拟真实世界的情况。\n",
    "\n",
    "3. **查找最高成绩的学生，最高薪资的员工等**：在这些场景中，我们需要快速找到某个特定条件下的最小值或最大值。例如，找出成绩最高的学生，或者是薪资最高的员工。"
   ]
  },
  {
   "cell_type": "markdown",
   "metadata": {},
   "source": [
    "## 优先队列抽象数据类型\n",
    "\n",
    "### 一、优先队列的功能\n",
    "\n",
    "优先队列（Priority Queue）是一种特殊的队列，它能够高效地完成以下操作：\n",
    "\n",
    "1. **FindMin（和 DeleteMin）**：快速找到（并删除）队列中的最小值或最高优先级的元素。\n",
    "\n",
    "2. **Insert**：将元素插入到队列中，根据其优先级确定其位置。\n",
    "\n",
    "### 二、优先队列的实现方式\n",
    "\n",
    "优先队列可以通过多种数据结构来实现，包括列表、二叉搜索树和哈希表。不同的实现方式在执行上述操作时的运行时间会有所不同。\n",
    "\n",
    "#### 1. 列表\n",
    "\n",
    "- **有序列表**：如果我们使用有序列表来实现优先队列，那么 FindMin 操作的运行时间为 O(1)，因为最小元素总是在列表的开始位置。但是 Insert 操作的运行时间为 O(n)，因为我们可能需要将所有元素向后移动以保持列表的有序性。\n",
    "\n",
    "- **无序列表**：如果我们使用无序列表来实现优先队列，那么 Insert 操作的运行时间为 O(1)，因为我们可以直接将新元素添加到列表的末尾。但是 FindMin 操作的运行时间为 O(n)，因为我们需要遍历整个列表来找到最小元素。\n",
    "\n",
    "#### 2. 二叉搜索树\n",
    "\n",
    "如果我们使用二叉搜索树来实现优先队列，那么在最好的情况下，Insert 和 FindMin 操作的运行时间都为 O(log n)。但是在最坏的情况下（例如当二叉树退化为链表时），这两个操作的运行时间都为 O(n)。\n",
    "\n",
    "#### 3. 哈希表\n",
    "\n",
    "如果我们使用哈希表来实现优先队列，那么 Insert 操作的运行时间为 O(1)，因为我们可以直接将新元素添加到哈希表的相应位置。但是 FindMin 操作的运行时间为 O(n)，因为我们需要遍历整个哈希表来找到最小元素。\n",
    "\n",
    "### 三、Python实现列表\n",
    "\n",
    "以下是一个使用 Python 列表实现的简单优先队列的例子：\n"
   ]
  },
  {
   "cell_type": "code",
   "execution_count": 4,
   "metadata": {},
   "outputs": [],
   "source": [
    "class PriorityQueue:\n",
    "    def __init__(self):\n",
    "        self.queue = []\n",
    "\n",
    "    def insert(self, item):\n",
    "        self.queue.append(item)\n",
    "        self.queue.sort()\n",
    "\n",
    "    def find_min(self):\n",
    "        return self.queue[0]\n",
    "\n",
    "    def delete_min(self):\n",
    "        return self.queue.pop(0)"
   ]
  },
  {
   "cell_type": "markdown",
   "metadata": {},
   "source": [
    "\n",
    "在使用这个优先队列时，我们可以通过 `insert` 方法添加元素，通过 `find_min` 方法找到最小元素，通过 `delete_min` 方法删除最小元素。\n"
   ]
  },
  {
   "cell_type": "code",
   "execution_count": 3,
   "metadata": {},
   "outputs": [
    {
     "name": "stdout",
     "output_type": "stream",
     "text": [
      "1\n",
      "2\n"
     ]
    }
   ],
   "source": [
    "pq = PriorityQueue()\n",
    "pq.insert(3)\n",
    "pq.insert(1)\n",
    "pq.insert(2)\n",
    "print(pq.find_min())  # 输出：1\n",
    "pq.delete_min()\n",
    "print(pq.find_min())  # 输出：2"
   ]
  },
  {
   "cell_type": "markdown",
   "metadata": {},
   "source": [
    "### 平衡二叉搜索树（Balanced Binary Search Trees）\n",
    "\n",
    "[BBTS](https://www.hello-algo.com/chapter_tree/binary_search_tree/#2)\n",
    "\n",
    "平衡二叉搜索树是一种特殊的二叉搜索树，它可以保证树的高度始终保持在对数级别，从而使得插入和查找最小值的操作时间复杂度都为 O(log N)。\n",
    "\n",
    ">二叉搜索树（Binary Search Tree，简称 BST）是一种特殊的二叉树，它满足以下性质：\n",
    ">\n",
    ">1. 每个节点的键值大于其左子树上任意一个节点的键值。\n",
    ">\n",
    ">2. 每个节点的键值小于其右子树上任意一个节点的键值。\n",
    ">\n",
    ">由于这两个性质，二叉搜索树的中序遍历将产生一个升序的序列，因此二叉搜索树常常被用于实现有序字典和优先队列等数据结构。\n",
    ">\n",
    ">以下是一个二叉搜索树的例子：\n",
    ">\n",
    "![image.png](https://www.hello-algo.com/chapter_tree/binary_search_tree.assets/binary_search_tree.png)\n",
    ">\n",
    ">在这个二叉搜索树中，每个节点的键值都大于其左子树上的键值，小于其右子树上的键值。例如，根节点 8 的左子树上的所有节点（1、3、4、6、7）的键值都小于 8，右子树上的所有节点（10、13、14）的键值都大于 8。\n",
    ">\n",
    ">在二叉搜索树中查找、插入和删除元素的时间复杂度在最坏情况下为 O(n)，在平均情况下为 O(log n)。然而，如果二叉搜索树“不平衡”，即某些节点的左右子树的高度差过大，那么它的性能可能会接近于链表。为了解决这个问题，人们提出了多种平衡二叉搜索树的数据结构，如 AVL 树和红黑树，它们可以在插入和删除元素时自动调整树的结构，保证树的高度始终保持在对数级别。"
   ]
  },
  {
   "cell_type": "markdown",
   "metadata": {},
   "source": [
    "\n",
    "\n",
    "在 Python 中，我们可以使用 `bintrees` 这个第三方库来实现平衡二叉搜索树。下面是一个简单的例子："
   ]
  },
  {
   "cell_type": "code",
   "execution_count": 7,
   "metadata": {},
   "outputs": [],
   "source": [
    "import bintrees\n",
    "\n",
    "class BalancedBST:\n",
    "    def __init__(self):\n",
    "        self.tree = bintrees.AVLTree()\n",
    "\n",
    "    def insert(self, item):\n",
    "        # 在 AVLTree 中，所有元素都必须有一个与之关联的值，这里我们简单地将所有元素的值设为 None\n",
    "        self.tree.insert(item, None)\n",
    "\n",
    "    def find_min(self):\n",
    "        return self.tree.min_key()\n",
    "\n",
    "    def delete_min(self):\n",
    "        min_key = self.tree.min_key()\n",
    "        self.tree.remove(min_key)"
   ]
  },
  {
   "cell_type": "markdown",
   "metadata": {},
   "source": [
    "\n",
    "\n",
    "### 二、哈希表\n",
    "\n",
    "哈希表可以实现 O(1) 的插入操作，但查找最小值的操作时间复杂度为 O(N)。在 Python 中，我们可以使用内置的 `dict` 类型来实现哈希表。下面是一个简单的例子：\n"
   ]
  },
  {
   "cell_type": "code",
   "execution_count": 5,
   "metadata": {},
   "outputs": [],
   "source": [
    "class HashTable:\n",
    "    def __init__(self):\n",
    "        self.table = {}\n",
    "\n",
    "    def insert(self, item):\n",
    "        # 在哈希表中，所有元素都必须有一个与之关联的键，这里我们简单地将所有元素的键设为其本身\n",
    "        self.table[item] = None\n",
    "\n",
    "    def find_min(self):\n",
    "        return min(self.table.keys())\n",
    "\n",
    "    def delete_min(self):\n",
    "        min_key = min(self.table.keys())\n",
    "        del self.table[min_key]"
   ]
  },
  {
   "cell_type": "markdown",
   "metadata": {},
   "source": [
    "\n",
    "\n",
    "请注意，以上的代码示例只是为了演示如何在 Python 中实现平衡二叉搜索树和哈希表，并没有考虑一些边界情况，如当树或表为空时调用 `find_min` 或 `delete_min` 方法。在实际使用时，你可能需要添加一些错误处理的代码。"
   ]
  },
  {
   "cell_type": "markdown",
   "metadata": {},
   "source": [
    "## Heap\n",
    "\n",
    "### 二叉堆（Binary Heaps）\n",
    "\n",
    "二叉堆是一种具有特殊性质的二叉树，它不是二叉搜索树（BST）。二叉堆具有以下特性：\n",
    "\n",
    "1. **完全性**：二叉堆是一棵完全二叉树，除了最底层外，其它层的节点数都达到最大，最底层的节点从左到右连续排列。\n",
    "\n",
    "2. **堆序性质**：二叉堆满足堆序性质，即每个节点的值都小于或等于其子节点的值（对于最小堆）或者每个节点的值都大于或等于其子节点的值（对于最大堆）。\n",
    "\n",
    "3. **根节点**：在最小堆中，根节点总是最小的节点。在最大堆中，根节点总是最大的节点。\n",
    "\n",
    "以下是一个最小堆的例子：\n",
    "\n",
    "```\n",
    "    2\n",
    "   / \\\n",
    "  4   6\n",
    " / \\\n",
    "7   5\n",
    "```\n",
    "\n",
    "在这个最小堆中，每个节点的值都小于或等于其子节点的值。例如，根节点 2 的值小于其左子节点 4 和右子节点 6 的值。\n",
    "\n",
    "需要注意的是，二叉堆只提供了有限的排序信息，即每条路径都是排序的，但是子树之间并没有排序。因此，二叉堆**不是**二叉搜索树。\n",
    "\n",
    "在 Python 中，我们可以使用 `heapq` 这个内置模块来实现二叉堆。"
   ]
  },
  {
   "cell_type": "markdown",
   "metadata": {},
   "source": [
    "### 二叉堆与二叉搜索树的比较\n",
    "\n",
    "二叉堆和二叉搜索树（BST）都是二叉树的一种，但它们有着不同的特性和用途。\n",
    "\n",
    "#### 比较\n",
    "\n",
    "二叉堆和二叉搜索树之间的主要区别在于节点值的排序方式。在二叉堆中，每个节点的值都小于或等于（对于最小堆）或大于或等于（对于最大堆）其子节点的值。而在二叉搜索树中，每个节点的值都大于其左子节点的值并小于其右子节点的值。\n",
    "\n",
    "因此，虽然二叉堆和二叉搜索树在结构上看起来可能类似，但它们在数据组织和操作性能上有着重大的差异。具体使用哪种结构取决于你的具体需求。例如，如果你需要快速查找最小或最大元素，二叉堆可能是一个好选择。如果你需要快速查找、插入和删除任意元素，二叉搜索树可能是一个好选择。\n",
    "\n",
    "在 Python 中，我们可以使用 `heapq` 这个内置模块来实现二叉堆，而二叉搜索树则需要我们自己实现或者使用第三方库。"
   ]
  },
  {
   "cell_type": "code",
   "execution_count": 1,
   "metadata": {},
   "outputs": [
    {
     "data": {
      "text/html": [
       "<style>\n",
       "    body {\n",
       "        --vscode-font-family: \"Consolas\", \"等线\"\n",
       "    }\n",
       "</style>\n"
      ],
      "text/plain": [
       "<IPython.core.display.HTML object>"
      ]
     },
     "metadata": {},
     "output_type": "display_data"
    }
   ],
   "source": [
    "%%HTML\n",
    "<style>\n",
    "    body {\n",
    "        --vscode-font-family: \"Consolas\", \"等线\"\n",
    "    }\n",
    "</style>"
   ]
  }
 ],
 "metadata": {
  "kernelspec": {
   "display_name": "DSDA",
   "language": "python",
   "name": "python3"
  },
  "language_info": {
   "codemirror_mode": {
    "name": "ipython",
    "version": 3
   },
   "file_extension": ".py",
   "mimetype": "text/x-python",
   "name": "python",
   "nbconvert_exporter": "python",
   "pygments_lexer": "ipython3",
   "version": "3.12.1"
  }
 },
 "nbformat": 4,
 "nbformat_minor": 2
}
